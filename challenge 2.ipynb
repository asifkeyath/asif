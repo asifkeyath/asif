{
 "cells": [
  {
   "cell_type": "markdown",
   "id": "c8798f29",
   "metadata": {},
   "source": [
    "# chellenge 2"
   ]
  },
  {
   "cell_type": "code",
   "execution_count": 2,
   "id": "12c2ba95",
   "metadata": {},
   "outputs": [
    {
     "name": "stdout",
     "output_type": "stream",
     "text": [
      "this is single liine string\n",
      "\n",
      "this is\n",
      "multi line string\n",
      "\n"
     ]
    }
   ],
   "source": [
    "#1\n",
    "str1='this is single line string'\n",
    "print(str1)\n",
    "str2= '''\n",
    "this is\n",
    "multi line string\n",
    "'''\n",
    "print (str2)"
   ]
  },
  {
   "cell_type": "markdown",
   "id": "05ce3a03",
   "metadata": {},
   "source": [
    "#2\n",
    "str1= \"Hello World\"\n",
    "print(str1[0],' ',str1[6])\n",
    "\n",
    "print(str1[4],' ',str1[7])\n",
    "print(str1[2:5]+str1[8:11])\n",
    "print(str1[::-1])\n",
    "print(str1[::-2])\n",
    "print(str1[6:11])\n",
    "print(str1[:5])\n",
    "\n"
   ]
  },
  {
   "cell_type": "code",
   "execution_count": 27,
   "id": "b8a9860e",
   "metadata": {},
   "outputs": [
    {
     "name": "stdout",
     "output_type": "stream",
     "text": [
      "str1is True\n",
      "str2 is alpha  False\n",
      "str3 is alpha  False\n",
      "str4 is digit  True\n",
      "True\n"
     ]
    }
   ],
   "source": [
    "#3\n",
    "str1 = 'welome'\n",
    "str2='Hello world'\n",
    "str3 = 'now is the best time ever'\n",
    "str4 ='50017'\n",
    "str5= 'phone_6'\n",
    "print('str1is',str1.isalpha())\n",
    "print('str2 is alpha ',str2.isalpha())\n",
    "print('str3 is alpha ',str3.isalpha())\n",
    "print('str4 is digit ',str4.isdigit())\n",
    "print(str3.startswith('now'))\n"
   ]
  },
  {
   "cell_type": "code",
   "execution_count": 30,
   "id": "bdfcb294",
   "metadata": {},
   "outputs": [
    {
     "name": "stdout",
     "output_type": "stream",
     "text": [
      "enter a string:asif\n",
      "Asif\n"
     ]
    }
   ],
   "source": [
    "#4\n",
    "str1=input('enter a string:')\n",
    "print(str1.title())"
   ]
  },
  {
   "cell_type": "code",
   "execution_count": 34,
   "id": "e19ed3ae",
   "metadata": {},
   "outputs": [
    {
     "name": "stdout",
     "output_type": "stream",
     "text": [
      "enter a letter:b\n",
      "b is not vowel\n"
     ]
    }
   ],
   "source": [
    "#6\n",
    "str1=input('enter a letter:')\n",
    "if str1=='a' or str1 =='e' or str1 =='i'or str1 =='o'or str1 =='u':\n",
    "    print(str1,' is vowel')\n",
    "else:\n",
    "    print(str1,'is not vowel')\n",
    "\n"
   ]
  },
  {
   "cell_type": "code",
   "execution_count": 38,
   "id": "6687b7a9",
   "metadata": {},
   "outputs": [
    {
     "name": "stdout",
     "output_type": "stream",
     "text": [
      "enter side 1 of triangle10\n",
      "enter side 2 of triangle10\n",
      "enter side 3 of triangle20\n",
      " the traingle is equilateral\n"
     ]
    }
   ],
   "source": [
    "#8\n",
    "x=int(input('enter side 1 of triangle'))\n",
    "y=int(input('enter side 2 of triangle'))\n",
    "z=int(input('enter side 3 of triangle'))\n",
    "if(x==y==z):\n",
    "    print('the traingle is isoseles')\n",
    "elif x==y or x==z or y==z:\n",
    "    print (' the traingle is equilateral')\n",
    "else: \n",
    "    print(' the traingle is skelene')\n",
    "    \n",
    "\n",
    "           \n"
   ]
  },
  {
   "cell_type": "code",
   "execution_count": 45,
   "id": "ce1c92b1",
   "metadata": {},
   "outputs": [
    {
     "name": "stdout",
     "output_type": "stream",
     "text": [
      "enter a year2032\n",
      "this is leap year\n"
     ]
    }
   ],
   "source": [
    "#9\n",
    "x=int(input('enter a year'))\n",
    "if x%400==0:\n",
    "    print('this is leap year')\n",
    "elif (x%4==0 and x%100 !=100):\n",
    "        print('this is leap year')\n",
    "else:\n",
    "    print('this is not leap year')"
   ]
  },
  {
   "cell_type": "code",
   "execution_count": null,
   "id": "ed1d4b4a",
   "metadata": {},
   "outputs": [],
   "source": []
  }
 ],
 "metadata": {
  "kernelspec": {
   "display_name": "Python 3",
   "language": "python",
   "name": "python3"
  },
  "language_info": {
   "codemirror_mode": {
    "name": "ipython",
    "version": 3
   },
   "file_extension": ".py",
   "mimetype": "text/x-python",
   "name": "python",
   "nbconvert_exporter": "python",
   "pygments_lexer": "ipython3",
   "version": "3.8.8"
  }
 },
 "nbformat": 4,
 "nbformat_minor": 5
}
